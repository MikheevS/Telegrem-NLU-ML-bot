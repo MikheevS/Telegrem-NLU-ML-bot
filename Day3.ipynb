{
 "cells": [
  {
   "cell_type": "code",
   "execution_count": 1,
   "metadata": {},
   "outputs": [],
   "source": [
    "# https://github.com/Koziev/NLP_Datasets/blob/master/Conversations/Data/dialogues.zip"
   ]
  },
  {
   "cell_type": "code",
   "execution_count": 2,
   "metadata": {},
   "outputs": [],
   "source": [
    "with open('dialogues.txt') as f:\n",
    "    content = f.read()"
   ]
  },
  {
   "cell_type": "code",
   "execution_count": 6,
   "metadata": {},
   "outputs": [
    {
     "data": {
      "text/plain": [
       "1034007"
      ]
     },
     "execution_count": 6,
     "metadata": {},
     "output_type": "execute_result"
    }
   ],
   "source": [
    "len(content.split('\\n\\n'))"
   ]
  },
  {
   "cell_type": "code",
   "execution_count": 32,
   "metadata": {},
   "outputs": [],
   "source": [
    "dialogues = []  # [[Q, A], ...]\n",
    "\n",
    "for dialogue_text in content.split('\\n\\n'):\n",
    "    replicas = dialogue_text.split('\\n')\n",
    "    if len(replicas) >= 2:\n",
    "        replicas = replicas[:2]\n",
    "        replicas = [replica[2:] for replica in replicas]\n",
    "        replicas[0] = replicas[0].lower().strip()\n",
    "        if replicas[0]:\n",
    "            dialogues.append(tuple(replicas))\n",
    "\n",
    "dialogues = list(set(dialogues))"
   ]
  },
  {
   "cell_type": "code",
   "execution_count": null,
   "metadata": {},
   "outputs": [],
   "source": []
  },
  {
   "cell_type": "code",
   "execution_count": 33,
   "metadata": {},
   "outputs": [
    {
     "name": "stdout",
     "output_type": "stream",
     "text": [
      "718276\n",
      "[('ну, как там?', 'Подарок вручен по назначению, товарищ старший лейтенант!'), ('это все, что у них было,', 'Жалоб не последует.'), ('ты ее вчера успокоил?', 'Еще чего!'), ('сказано двойной, так оно и будет, нам здесь зимовать.', 'Кто отказывается выполнять ваши задания?'), ('все, иди к шлюзу. и не забудь включить шлем.', 'Слышно?'), ('не произойдет,', 'Я понял, И как долго ты собираешься ждать его?'), ('может быть.', 'Оставьте эту затею, лейтенант.'), ('я сейчас принесу торазин, 2) - предложил марвин.', 'К черту торазин, Помоги мне.'), ('как там поживает ваш сумасшедший?', 'Спасибо, Хорошо.'), ('проклятие! что все это может значить?', 'Он уехал в Кентукки, на распродажу лошадей.')]\n"
     ]
    }
   ],
   "source": [
    "print(len(dialogues))\n",
    "print(dialogues[:10])"
   ]
  },
  {
   "cell_type": "code",
   "execution_count": 46,
   "metadata": {},
   "outputs": [
    {
     "name": "stderr",
     "output_type": "stream",
     "text": [
      "[nltk_data] Downloading package punkt to /Users/nlevashov/nltk_data...\n",
      "[nltk_data]   Unzipping tokenizers/punkt.zip.\n"
     ]
    },
    {
     "data": {
      "text/plain": [
       "True"
      ]
     },
     "execution_count": 46,
     "metadata": {},
     "output_type": "execute_result"
    }
   ],
   "source": [
    "import nltk\n",
    "nltk.download('punkt')"
   ]
  },
  {
   "cell_type": "code",
   "execution_count": 49,
   "metadata": {},
   "outputs": [],
   "source": [
    "qa_dataset = {}\n",
    "\n",
    "alphabet = 'йцукенгшщзхъфывапролджэёячсмитьбю'\n",
    "for question, answer in dialogues:\n",
    "    tokens = nltk.word_tokenize(question)\n",
    "    words = [token for token in tokens if any(char in token for char in alphabet)]\n",
    "    for word in words:\n",
    "        if word not in qa_dataset:\n",
    "            qa_dataset[word] = []\n",
    "        qa_dataset[word].append((question, answer))"
   ]
  },
  {
   "cell_type": "code",
   "execution_count": 52,
   "metadata": {},
   "outputs": [],
   "source": [
    "def get_generative_answer(text):\n",
    "    text = text.lower()\n",
    "    tokens = nltk.word_tokenize(text)\n",
    "    words = [token for token in tokens if any(char in token for char in alphabet)]\n",
    "    for word in words:\n",
    "        if word in qa_dataset:\n",
    "            for question, answer in qa_dataset[word]:\n",
    "                if abs(len(text) - len(question)) / len(question) < 0.2:\n",
    "                    distance = nltk.edit_distance(text, question)\n",
    "                    if distance / len(question) < 0.2:\n",
    "                        return answer"
   ]
  },
  {
   "cell_type": "code",
   "execution_count": 57,
   "metadata": {},
   "outputs": [
    {
     "data": {
      "text/plain": [
       "'Я сплю, не мешай.'"
      ]
     },
     "execution_count": 57,
     "metadata": {},
     "output_type": "execute_result"
    }
   ],
   "source": [
    "get_generative_answer('о чем думаешь?')"
   ]
  },
  {
   "cell_type": "code",
   "execution_count": null,
   "metadata": {},
   "outputs": [],
   "source": [
    "Привет\n",
    "Добрый день"
   ]
  }
 ],
 "metadata": {
  "kernelspec": {
   "display_name": "Python 3",
   "language": "python",
   "name": "python3"
  },
  "language_info": {
   "codemirror_mode": {
    "name": "ipython",
    "version": 3
   },
   "file_extension": ".py",
   "mimetype": "text/x-python",
   "name": "python",
   "nbconvert_exporter": "python",
   "pygments_lexer": "ipython3",
   "version": "3.7.6"
  }
 },
 "nbformat": 4,
 "nbformat_minor": 4
}
