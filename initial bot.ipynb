{
 "cells": [
  {
   "cell_type": "code",
   "execution_count": 2,
   "metadata": {},
   "outputs": [],
   "source": [
    "import random\n",
    "import nltk"
   ]
  },
  {
   "cell_type": "code",
   "execution_count": 3,
   "metadata": {},
   "outputs": [],
   "source": [
    "BOT_CONFIG = {\n",
    "    'intents': {\n",
    "\n",
    "        'hello': {\n",
    "            'examples': ['Привет', 'Добрый день', 'Здраствуйте!','Здраствуйте','Салам','Салам-алейкум', 'Шалом'],\n",
    "            'responses': ['Привет, пользователь!', 'Здраствуй человек']\n",
    "        },\n",
    "        'goodbye': {\n",
    "            'examples': ['Пока', 'Всего доброго', 'До свидания'],\n",
    "            'responses': ['Пока', 'Счастливо!']\n",
    "        },\n",
    "        'thanks': {\n",
    "            'examples': ['Спасибо', 'Спасибо большое!', 'Сенкс', 'Благодарю'],\n",
    "            'responses': ['Вам спасибо!']\n",
    "        },\n",
    "        'whatcanyoudo': {\n",
    "            'examples': ['Что ты умеешь?', 'Расскажи что умеешь'],\n",
    "            'responses': ['Отвечать на вопросы. Просто напиши :)']\n",
    "        },\n",
    "        'name': {\n",
    "            'examples': ['Как тебя зовут?', 'Твое имя?'],\n",
    "            'responses': ['Меня зовут бот. Просто бот.']\n",
    "        },\n",
    "        'health': {\n",
    "            'examples': ['Как твоё здоровье?', 'Как твоё самочувствие?'],\n",
    "            'responses': ['Отлично, а твоё?']\n",
    "        },\n",
    "        'music': {\n",
    "            'examples': ['Какую музыку любишь?', 'Какую музыку слушаешь?'],\n",
    "            'responses': ['Предпочитаю электронную, а ты?']\n",
    "        },\n",
    "        'weather': {\n",
    "            'examples': ['Какая погода в Москве?','Какая погода в Уральске?''Какая погода в Гонконге?', 'Какая погода?'],\n",
    "            'responses': ['Погода так себе...']\n",
    "        }\n",
    "\n",
    "    },\n",
    "\n",
    "    'failure_phrases': [\n",
    "        'Я не знаю, что ответить',\n",
    "        'Не поняла вас',\n",
    "        'Простите, не поняла вас',\n",
    "        'Я на такое не умею отвечать',\n",
    "        'Переформулируйте, пожалуйста'\n",
    "    ]\n",
    "}"
   ]
  },
  {
   "cell_type": "code",
   "execution_count": 4,
   "metadata": {},
   "outputs": [],
   "source": [
    "def get_intent(text):\n",
    "    for intent_name, intent_data in BOT_CONFIG['intents'].items():\n",
    "        for example in intent_data['examples']:\n",
    "            distance = nltk.edit_distance(text.lower(), example.lower())\n",
    "            if distance / len(example) < 0.4:\n",
    "                return intent_name"
   ]
  },
  {
   "cell_type": "code",
   "execution_count": 5,
   "metadata": {},
   "outputs": [],
   "source": [
    "def get_response_by_intent(intent):\n",
    "    candidates = BOT_CONFIG['intents'][intent]['responses']\n",
    "    return random.choice(candidates)"
   ]
  },
  {
   "cell_type": "code",
   "execution_count": 6,
   "metadata": {},
   "outputs": [],
   "source": [
    "def generate_answer(text):\n",
    "    return None  # to do"
   ]
  },
  {
   "cell_type": "code",
   "execution_count": 7,
   "metadata": {},
   "outputs": [],
   "source": [
    "def get_default_response():\n",
    "    candidates = BOT_CONFIG['failure_phrases']\n",
    "    return random.choice(candidates)"
   ]
  },
  {
   "cell_type": "code",
   "execution_count": 8,
   "metadata": {},
   "outputs": [],
   "source": [
    "def get_answer(text):\n",
    "    # NLU-Natural Language Understanding, Понимание естественного языка\n",
    "    intent = get_intent(text)\n",
    "    \n",
    "    # делаем ответ\n",
    "    \n",
    "    # правила\n",
    "    if intent:\n",
    "        return get_response_by_intent(intent)\n",
    "\n",
    "    # генеративная модель\n",
    "    response = generate_answer(text)\n",
    "    if response:\n",
    "        return response\n",
    "\n",
    "    # заглушка\n",
    "    return get_default_response()"
   ]
  },
  {
   "cell_type": "code",
   "execution_count": null,
   "metadata": {
    "scrolled": true
   },
   "outputs": [
    {
     "name": "stdout",
     "output_type": "stream",
     "text": [
      "привет\n",
      "Здраствуй\n",
      "как дела?\n",
      "Я не знаю, что ответить\n",
      "как погода\n",
      "Погода так себе...\n",
      "пока\n",
      "Пока\n",
      "поки\n",
      "Счастливо!\n",
      "досвидание\n",
      "Счастливо!\n",
      "привет\n",
      "Здраствуй\n"
     ]
    }
   ],
   "source": [
    "while True:\n",
    "    question = input()\n",
    "    answer = get_answer(question)\n",
    "    print(answer)"
   ]
  },
  {
   "cell_type": "code",
   "execution_count": null,
   "metadata": {},
   "outputs": [],
   "source": []
  }
 ],
 "metadata": {
  "kernelspec": {
   "display_name": "Python 3",
   "language": "python",
   "name": "python3"
  },
  "language_info": {
   "codemirror_mode": {
    "name": "ipython",
    "version": 3
   },
   "file_extension": ".py",
   "mimetype": "text/x-python",
   "name": "python",
   "nbconvert_exporter": "python",
   "pygments_lexer": "ipython3",
   "version": "3.7.3"
  }
 },
 "nbformat": 4,
 "nbformat_minor": 4
}
